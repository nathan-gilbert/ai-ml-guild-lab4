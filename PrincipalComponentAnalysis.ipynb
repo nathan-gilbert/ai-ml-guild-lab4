{
 "cells": [
  {
   "cell_type": "markdown",
   "source": [
    "# PCA Lab\n",
    "\n",
    "## Introduction\n",
    "\n",
    "Up to this point, we've been looking at _supervised learning_. That is building\n",
    "models using labeled data. This lab is the first step in using unsupervised\n",
    "techniques. With unsupervised methods there are no training labels, we're looking\n",
    "for patterns that arise out of the data itself.\n",
    "\n",
    "PCA is not a classification tool though, it's useful for preprocessing\n",
    "your data to reduce its dimensionality or making it easier to work with."
   ],
   "metadata": {
    "collapsed": false,
    "pycharm": {
     "name": "#%% md\n"
    }
   }
  },
  {
   "cell_type": "code",
   "execution_count": 2,
   "metadata": {
    "collapsed": true
   },
   "outputs": [],
   "source": [
    "%matplotlib inline\n",
    "import numpy as np\n",
    "import matplotlib.pyplot as plt\n",
    "import seaborn as sns; sns.set()\n"
   ]
  },
  {
   "cell_type": "markdown",
   "source": [
    "## PCA\n",
    "First, let's generate some random data to illustrate dimensionality reduction."
   ],
   "metadata": {
    "collapsed": false
   }
  },
  {
   "cell_type": "code",
   "execution_count": 3,
   "outputs": [
    {
     "data": {
      "text/plain": "<Figure size 432x288 with 1 Axes>",
      "image/png": "[encoded data removed]"
     },
     "metadata": {},
     "output_type": "display_data"
    }
   ],
   "source": [
    "ran = np.random.RandomState(1)\n",
    "X = np.dot(ran.rand(2, 2), ran.randn(2, 200)).T\n",
    "plt.scatter(X[:, 0], X[:, 1])\n",
    "plt.axis('equal');"
   ],
   "metadata": {
    "collapsed": false,
    "pycharm": {
     "name": "#%%\n"
    }
   }
  },
  {
   "cell_type": "markdown",
   "source": [
    "It's clear there's a linear relationship between X & Y. Let's explore this relationship\n",
    "with PCA.\n",
    "\n",
    "First, import class from SKLearn and generate some basic statistics\n",
    "of the data."
   ],
   "metadata": {
    "collapsed": false,
    "pycharm": {
     "name": "#%% md\n"
    }
   }
  },
  {
   "cell_type": "code",
   "execution_count": 4,
   "outputs": [
    {
     "name": "stdout",
     "output_type": "stream",
     "text": [
      "components:\n",
      " [[-0.94446029 -0.32862557]\n",
      " [-0.32862557  0.94446029]]\n",
      "explained variance:\n",
      " [0.7625315 0.0184779]\n",
      "mean:\n",
      " [ 0.03351168 -0.00408072]\n",
      "covariance:\n",
      " [[0.68217761 0.23093475]\n",
      " [0.23093475 0.09883179]]\n"
     ]
    }
   ],
   "source": [
    "from sklearn.decomposition import PCA\n",
    "\n",
    "pca = PCA(n_components=2)\n",
    "pca.fit(X)\n",
    "print(\"components:\\n\", pca.components_)\n",
    "print(\"explained variance:\\n\", pca.explained_variance_)\n",
    "print(\"mean:\\n\", pca.mean_)\n",
    "print(\"covariance:\\n\", pca.get_covariance())"
   ],
   "metadata": {
    "collapsed": false,
    "pycharm": {
     "name": "#%%\n"
    }
   }
  },
  {
   "cell_type": "markdown",
   "source": [
    "- `components` - these are the principal axes (vectors) in the feature space and the directions of maximum variance. These are your eigenvectors.\n",
    "- `explained variance` - The amount of variance explained by each of the principal components, equal to the largest eigenvalues of the covariance matrix of the input data.\n",
    "- `mean` - Per-feature empirical mean, estimated from the training set.\n",
    "- `covariance` - estimated covariance matrix of the training data\n",
    "\n",
    "Next let's plot the principal components against the original data."
   ],
   "metadata": {
    "collapsed": false,
    "pycharm": {
     "name": "#%% md\n"
    }
   }
  },
  {
   "cell_type": "code",
   "execution_count": 12,
   "outputs": [
    {
     "data": {
      "text/plain": "<Figure size 432x288 with 1 Axes>",
      "image/png": "[encoded data removed]"
     },
     "metadata": {},
     "output_type": "display_data"
    }
   ],
   "source": [
    "def draw_component(v0, v1, ax=None):\n",
    "    ax = ax or plt.gca()\n",
    "    arrow = dict(arrowstyle='->', linewidth=2, shrinkA=0, shrinkB=0)\n",
    "    ax.annotate('', v1, v0, arrowprops=arrow)\n",
    "\n",
    "# plot data\n",
    "scaling_factor = 3\n",
    "plt.scatter(X[:, 0], X[:, 1], alpha=0.2)\n",
    "for length, vector in zip(pca.explained_variance_, pca.components_):\n",
    "    # explained variance is squared length\n",
    "    v = scaling_factor * vector * np.sqrt(length)\n",
    "    draw_component(pca.mean_, pca.mean_ + v)\n",
    "plt.axis('equal');"
   ],
   "metadata": {
    "collapsed": false,
    "pycharm": {
     "name": "#%%\n"
    }
   }
  },
  {
   "cell_type": "markdown",
   "source": [
    "The two new axes show the direction and magnitude of the principal components of the\n",
    "data. The lengths of the vectors indicate their \"importance\" i.e. how much\n",
    "variance they contain when projected onto that axis.\n",
    "\n",
    "## Reduce Dimensions\n",
    "\n",
    "We can use these components to reduce the dimensionality of our data."
   ],
   "metadata": {
    "collapsed": false,
    "pycharm": {
     "name": "#%% md\n"
    }
   }
  },
  {
   "cell_type": "code",
   "execution_count": 15,
   "outputs": [
    {
     "name": "stdout",
     "output_type": "stream",
     "text": [
      "original shape:    (200, 2)\n",
      "transformed shape: (200, 1)\n"
     ]
    }
   ],
   "source": [
    "pca = PCA(n_components=1)\n",
    "pca.fit(X)\n",
    "X_pcad = pca.transform(X)\n",
    "print(\"original shape:   \", X.shape)\n",
    "print(\"transformed shape:\", X_pcad.shape)"
   ],
   "metadata": {
    "collapsed": false,
    "pycharm": {
     "name": "#%%\n"
    }
   }
  },
  {
   "cell_type": "markdown",
   "source": [
    "Boom! We just reduced our y dimension by 100%!\n",
    "\n",
    "Let's look at the plot of this \"new data set\" against our original."
   ],
   "metadata": {
    "collapsed": false,
    "pycharm": {
     "name": "#%% md\n"
    }
   }
  },
  {
   "cell_type": "code",
   "execution_count": 16,
   "outputs": [
    {
     "data": {
      "text/plain": "<Figure size 432x288 with 1 Axes>",
      "image/png": "[encoded data removed]"
     },
     "metadata": {},
     "output_type": "display_data"
    }
   ],
   "source": [
    "X_new = pca.inverse_transform(X_pcad)\n",
    "plt.scatter(X[:, 0], X[:, 1], alpha=0.2)\n",
    "plt.scatter(X_new[:, 0], X_new[:, 1], alpha=0.8)\n",
    "plt.axis('equal');"
   ],
   "metadata": {
    "collapsed": false,
    "pycharm": {
     "name": "#%%\n"
    }
   }
  },
  {
   "cell_type": "markdown",
   "source": [
    "Ok, how do we use this with a classifier? Let's look at how to use PCA with a Decision Tree classifier\n",
    "on the Wisconsin Breast Cancer data set."
   ],
   "metadata": {
    "collapsed": false,
    "pycharm": {
     "name": "#%% md\n"
    }
   }
  },
  {
   "cell_type": "code",
   "execution_count": 28,
   "outputs": [
    {
     "name": "stdout",
     "output_type": "stream",
     "text": [
      "DT Accuracy vanilla:  0.9298245614035088\n",
      "\n",
      "# of original features: 30\n",
      "\n",
      "# of 'features' post-PCA transform: 1\n",
      "DT Accuracy:  0.8830409356725146\n",
      "\n",
      "# of 'features' post-PCA transform: 2\n",
      "DT Accuracy:  0.9473684210526315\n",
      "\n",
      "# of 'features' post-PCA transform: 5\n",
      "DT Accuracy:  0.9181286549707602\n",
      "\n",
      "# of 'features' post-PCA transform: 10\n",
      "DT Accuracy:  0.9415204678362573\n",
      "\n",
      "# of 'features' post-PCA transform: 15\n",
      "DT Accuracy:  0.9298245614035088\n",
      "\n",
      "# of 'features' post-PCA transform: 25\n",
      "DT Accuracy:  0.9122807017543859\n",
      "\n",
      "# of 'features' post-PCA transform: 30\n",
      "DT Accuracy:  0.8830409356725146\n",
      "\n"
     ]
    }
   ],
   "source": [
    "import pandas as pd\n",
    "from sklearn.datasets import load_breast_cancer\n",
    "from sklearn.preprocessing import StandardScaler\n",
    "from sklearn.tree import DecisionTreeClassifier\n",
    "from sklearn.model_selection import train_test_split\n",
    "\n",
    "\n",
    "raw_data = load_breast_cancer()\n",
    "raw_data_frame = pd.DataFrame(raw_data[\"data\"], columns = raw_data[\"feature_names\"])\n",
    "\n",
    "# Standardize the data set. Standardization refers to transforming all of the data\n",
    "# set so that each feature is roughly the same size.\n",
    "# https://machinelearningmastery.com/normalize-standardize-machine-learning-data-weka/\n",
    "data_scaler = StandardScaler()\n",
    "data_scaler.fit(raw_data_frame)\n",
    "scaled_data_frame = data_scaler.transform(raw_data_frame)\n",
    "\n",
    "X_train, X_test, y_train, y_test = train_test_split(scaled_data_frame,\n",
    "                                                    raw_data[\"target\"],\n",
    "                                                    test_size=0.3,\n",
    "                                                    random_state=42,\n",
    "                                                    stratify=raw_data[\"target\"])\n",
    "\n",
    "classifier = DecisionTreeClassifier()\n",
    "classifier.fit(X_train, y_train)\n",
    "print(\"DT Accuracy vanilla: \", classifier.score(X_test, y_test))\n",
    "print()\n",
    "print(f\"# of original features: {scaled_data_frame.shape[1]}\")\n",
    "print()\n",
    "\n",
    "def do_the_pca_now(n_components):\n",
    "    pca = PCA(n_components)\n",
    "    pca.fit(X_train)\n",
    "    x_train_pcad = pca.transform(X_train)\n",
    "    print(f\"# of 'features' post-PCA transform: {x_train_pcad.shape[1]}\")\n",
    "\n",
    "    classifier.fit(x_train_pcad, y_train)\n",
    "    # don't refit the PCA\n",
    "    x_test_pcad = pca.transform(X_test)\n",
    "    print(\"DT Accuracy: \", classifier.score(x_test_pcad, y_test))\n",
    "    print()\n",
    "\n",
    "do_the_pca_now(1)\n",
    "do_the_pca_now(2)\n",
    "do_the_pca_now(5)\n",
    "do_the_pca_now(10)\n",
    "do_the_pca_now(15)\n",
    "do_the_pca_now(25)\n",
    "do_the_pca_now(30)"
   ],
   "metadata": {
    "collapsed": false,
    "pycharm": {
     "name": "#%%\n"
    }
   }
  }
 ],
 "metadata": {
  "kernelspec": {
   "display_name": "Python 3",
   "language": "python",
   "name": "python3"
  },
  "language_info": {
   "codemirror_mode": {
    "name": "ipython",
    "version": 2
   },
   "file_extension": ".py",
   "mimetype": "text/x-python",
   "name": "python",
   "nbconvert_exporter": "python",
   "pygments_lexer": "ipython2",
   "version": "2.7.6"
  }
 },
 "nbformat": 4,
 "nbformat_minor": 0
}